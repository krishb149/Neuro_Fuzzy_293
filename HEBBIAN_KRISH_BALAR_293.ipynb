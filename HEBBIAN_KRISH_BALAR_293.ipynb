{
  "nbformat": 4,
  "nbformat_minor": 0,
  "metadata": {
    "colab": {
      "name": "HEBBIAN_KRISH BALAR_293.ipynb",
      "provenance": []
    },
    "kernelspec": {
      "name": "python3",
      "display_name": "Python 3"
    },
    "language_info": {
      "name": "python"
    }
  },
  "cells": [
    {
      "cell_type": "code",
      "execution_count": 3,
      "metadata": {
        "colab": {
          "base_uri": "https://localhost:8080/"
        },
        "id": "MadJ3jc8CeEb",
        "outputId": "330ed75d-b012-46b2-af3a-23af6c0d9659"
      },
      "outputs": [
        {
          "output_type": "stream",
          "name": "stdout",
          "text": [
            "\n",
            "\n",
            "Weights and bias after iteration 0:\n",
            "W1 :1\n",
            "W2 :1\n",
            "b  :1\n",
            "Weights and bias after iteration 1:\n",
            "W1 :0\n",
            "W2 :2\n",
            "b  :0\n",
            "Weights and bias after iteration 2:\n",
            "W1 :1\n",
            "W2 :1\n",
            "b  :-1\n",
            "Weights and bias after iteration 3:\n",
            "W1 :2\n",
            "W2 :2\n",
            "b  :-2\n",
            "\n",
            "Final Weights:\n",
            "2 2\n",
            "Final Bias:\n",
            "-2\n"
          ]
        }
      ],
      "source": [
        "import numpy as np\n",
        "class Hebb :\n",
        "    def __init__(self) :\n",
        "        pass\n",
        "    def HebbAND(self) :\n",
        "        print (\"\\n\")\n",
        "        x1 = [1, 1, -1, -1]\n",
        "        x2 = [1, -1, 1, -1]\n",
        "        x3 = [1, 1, 1, 1]\n",
        "        y = [1, -1, -1, -1] #target\n",
        "        w1=0\n",
        "        w2=0\n",
        "        w3=0\n",
        "        b=0\n",
        "        w1n=0\n",
        "        w2n=0\n",
        "        w3n=0\n",
        "        bn=0\n",
        "        \n",
        "        for i in range(0,4) :\n",
        "            w1n = w1+x1[i]*y[i]\n",
        "            w2n = w2+x2[i]*y[i]\n",
        "            bn = b+y[i]\n",
        "            print (\"Weights and bias after iteration \"+str(i)+\":\")\n",
        "            print (\"W1 :\" +str(w1n))\n",
        "            print (\"W2 :\" +str(w2n))\n",
        "            print (\"b  :\" +str(bn))\n",
        "            w1 = w1n\n",
        "            w2 = w2n\n",
        "            b = bn\n",
        "        print (\"\\nFinal Weights:\")\n",
        "        print (w1, w2)\n",
        "        print (\"Final Bias:\")\n",
        "        print (b)\n",
        "def main() :\n",
        "    hebb = Hebb()\n",
        "    hebb.HebbAND()\n",
        "if __name__ == '__main__' :\n",
        "    main()"
      ]
    },
    {
      "cell_type": "code",
      "source": [
        ""
      ],
      "metadata": {
        "id": "bZWvgV2KDPyJ"
      },
      "execution_count": null,
      "outputs": []
    }
  ]
}