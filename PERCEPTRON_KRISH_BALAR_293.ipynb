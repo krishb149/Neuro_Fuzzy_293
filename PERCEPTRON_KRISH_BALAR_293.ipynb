{
  "nbformat": 4,
  "nbformat_minor": 0,
  "metadata": {
    "colab": {
      "name": "PERCEPTRON_KRISH BALAR_293.ipynb",
      "provenance": []
    },
    "kernelspec": {
      "name": "python3",
      "display_name": "Python 3"
    },
    "language_info": {
      "name": "python"
    }
  },
  "cells": [
    {
      "cell_type": "code",
      "execution_count": 1,
      "metadata": {
        "colab": {
          "base_uri": "https://localhost:8080/"
        },
        "id": "MadJ3jc8CeEb",
        "outputId": "f5532f6c-b0e7-4e7c-8c84-f8d78d369973"
      },
      "outputs": [
        {
          "output_type": "stream",
          "name": "stdout",
          "text": [
            "\n",
            "Final Weights:\n",
            "[-0.025 -0.057  0.078  0.042]\n",
            "Final Bias:\n",
            "-0.01\n"
          ]
        }
      ],
      "source": [
        "import numpy as np\n",
        "class PerceptronClass:\n",
        "  def __init__(self, learning_rate=0.01, num_iters=1000):\n",
        "    self.weights = None\n",
        "    self.bias = None\n",
        "    self.num_iterations = num_iters\n",
        "    self.lr = learning_rate\n",
        "\n",
        "  def _unit_step_func(self, x):\n",
        "    return np.where(x >= 0, 1, 0)\n",
        "\n",
        "  def fit(self, X, y):\n",
        "    n_samples, n_features = X.shape\n",
        "    # init parameters\n",
        "    self.weights = np.zeros(n_features)\n",
        "    self.bias = 0\n",
        "    y_ = np.array([1 if i > 0 else 0 for i in y])\n",
        "    for _ in range(self.num_iterations):\n",
        "      for idx, x_i in enumerate(X):\n",
        "        linear_output = np.dot(x_i, self.weights) + self.bias\n",
        "        y_predicted = self._unit_step_func(linear_output)\n",
        "        # Perceptron weight update rule:\n",
        "        # weight := weight - learning_rate*(error)\n",
        "        update = self.lr * (y_predicted - y_[idx])\n",
        "        self.weights -= update * x_i\n",
        "        self.bias -= update\n",
        "    print (\"\\nFinal Weights:\")\n",
        "    print (self.weights)\n",
        "    print (\"Final Bias:\")\n",
        "    print (self.bias)\n",
        "  def predict(self, X):\n",
        "    linear_output = np.dot(X, self.weights) + self.bias\n",
        "    y_predicted = self._unit_step_func(linear_output)\n",
        "    return y_predicted\n",
        "from sklearn.datasets import load_iris\n",
        "from sklearn.model_selection import train_test_split\n",
        "from sklearn.metrics import accuracy_score\n",
        "\n",
        "data = load_iris()\n",
        "X, y = data.data, data.target\n",
        "X_train, X_test, Y_train, Y_test = train_test_split(X,y, test_size=0.2)\n",
        "\n",
        "perceptron = PerceptronClass()\n",
        "perceptron.fit(X_train,Y_train)"
      ]
    },
    {
      "cell_type": "code",
      "source": [
        ""
      ],
      "metadata": {
        "id": "bZWvgV2KDPyJ"
      },
      "execution_count": null,
      "outputs": []
    }
  ]
}